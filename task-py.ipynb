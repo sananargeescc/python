{
  "cells": [
    {
      "cell_type": "markdown",
      "metadata": {
        "id": "9K409ravBHfC"
      },
      "source": [
        "1)Find the minimum and maximum element in an array."
      ]
    },
    {
      "cell_type": "code",
      "execution_count": null,
      "metadata": {
        "colab": {
          "base_uri": "https://localhost:8080/"
        },
        "id": "0IZNyNApBKet",
        "outputId": "e50ec99d-00b0-4649-9294-552cb70bf645"
      },
      "outputs": [
        {
          "name": "stdout",
          "output_type": "stream",
          "text": [
            "maximum: 11\n",
            "minimum: 1\n"
          ]
        }
      ],
      "source": [
        "arr=[1,3,4,5,10,11]\n",
        "print(\"maximum:\",max(arr))\n",
        "print(\"minimum:\",min(arr))\n"
      ]
    },
    {
      "cell_type": "markdown",
      "metadata": {
        "id": "OrZ7HPLNBm3S"
      },
      "source": [
        "2)arr[] = {1,5,3,2}\n",
        "Given a random set of numbers, print them in sorted order"
      ]
    },
    {
      "cell_type": "code",
      "execution_count": null,
      "metadata": {
        "colab": {
          "base_uri": "https://localhost:8080/"
        },
        "id": "YW5MIP5TBs-j",
        "outputId": "be324418-5632-40d8-fbea-fb1891313aa4"
      },
      "outputs": [
        {
          "name": "stdout",
          "output_type": "stream",
          "text": [
            "[1, 2, 3, 5]\n"
          ]
        }
      ],
      "source": [
        "arr= {1,5,3,2}\n",
        "print(sorted(arr))"
      ]
    },
    {
      "cell_type": "markdown",
      "metadata": {
        "id": "WGpmCgP-CkQK"
      },
      "source": [
        "3)write a program to reverse the array"
      ]
    },
    {
      "cell_type": "code",
      "execution_count": null,
      "metadata": {
        "colab": {
          "base_uri": "https://localhost:8080/"
        },
        "id": "MwyVcUOgCqL_",
        "outputId": "f80fe65c-c9bb-4658-f5bd-7a84392c19f8"
      },
      "outputs": [
        {
          "name": "stdout",
          "output_type": "stream",
          "text": [
            "reversed array: ['cherry', 'banana', 'apple']\n"
          ]
        }
      ],
      "source": [
        "arr=[\"apple\",\"banana\",\"cherry\"]\n",
        "arr.reverse()\n",
        "print(\"reversed array:\",arr)"
      ]
    },
    {
      "cell_type": "markdown",
      "metadata": {
        "id": "pl3oTMODDZqJ"
      },
      "source": [
        "4)Find the smallest and largest element In an array"
      ]
    },
    {
      "cell_type": "code",
      "execution_count": null,
      "metadata": {
        "colab": {
          "base_uri": "https://localhost:8080/"
        },
        "id": "aiEgmsHGDdW-",
        "outputId": "23e8cfd9-cded-454c-ea37-ed3f9a495453"
      },
      "outputs": [
        {
          "name": "stdout",
          "output_type": "stream",
          "text": [
            "small: 1\n",
            "large: 23\n"
          ]
        }
      ],
      "source": [
        "arr=[1,10,4,5,2,7,3,23,6]\n",
        "small=min(arr)\n",
        "large=max(arr)\n",
        "print(\"small:\",small)\n",
        "print(\"large:\",large)\n"
      ]
    },
    {
      "cell_type": "markdown",
      "metadata": {
        "id": "FIvOY0ICE8t_"
      },
      "source": [
        "5)create three arrays and find the common element in these array"
      ]
    },
    {
      "cell_type": "code",
      "execution_count": null,
      "metadata": {
        "colab": {
          "base_uri": "https://localhost:8080/"
        },
        "id": "9SeFQZtpFK9W",
        "outputId": "778150ce-8ef9-4438-b897-c0fdbf793ddb"
      },
      "outputs": [
        {
          "name": "stdout",
          "output_type": "stream",
          "text": [
            "common elements: [2, 5, 6]\n"
          ]
        }
      ],
      "source": [
        "arr1=[1,2,5,6,7,9]\n",
        "arr2=[3,6,2,8,4,5]\n",
        "arr3=[6,5,9,2,3,1]\n",
        "a=(set(arr1).intersection(arr2).intersection(arr3))\n",
        "print(\"common elements:\",list(a))\n"
      ]
    },
    {
      "cell_type": "markdown",
      "metadata": {
        "id": "KWvvCqXIIfI2"
      },
      "source": [
        "6)Find the factorial of a number using array"
      ]
    },
    {
      "cell_type": "code",
      "execution_count": 6,
      "metadata": {
        "colab": {
          "base_uri": "https://localhost:8080/"
        },
        "id": "LyfTXbtoODzM",
        "outputId": "b662693c-d503-4dfc-bf0f-3d521330761c"
      },
      "outputs": [
        {
          "name": "stdout",
          "output_type": "stream",
          "text": [
            "factorial: [1, 2, 6, 24, 120]\n"
          ]
        }
      ],
      "source": [
        "def factorial(n):\n",
        "\n",
        "    fact = 1\n",
        "\n",
        "    for factor in range(1,n+1):\n",
        "        fact *= factor\n",
        "\n",
        "    return fact\n",
        "arr= [1, 2, 3, 4, 5]\n",
        "factorial = [factorial(x) for x in arr]\n",
        "print(\"factorial:\",factorial)\n",
        "\n",
        "  \n"
      ]
    },
    {
      "cell_type": "markdown",
      "metadata": {
        "id": "S3jzlbdCaZzU"
      },
      "source": [
        "9)sort the array 0s,1s and 2s"
      ]
    },
    {
      "cell_type": "code",
      "execution_count": 7,
      "metadata": {},
      "outputs": [
        {
          "name": "stdout",
          "output_type": "stream",
          "text": [
            "[0, 0, 0, 0, 0, 1, 1, 1, 2, 2, 2]\n"
          ]
        }
      ],
      "source": [
        "arr=[1,1,0,0,0,2,1,0,0,2,2]\n",
        "a=[]\n",
        "b=[]\n",
        "c=[]\n",
        "for i in arr:\n",
        "  if i==0:\n",
        "    a.append(i)\n",
        "  elif i==1:\n",
        "    b.append(i)\n",
        "  elif i==2:\n",
        "     c.append(i)\n",
        "  else:\n",
        "    break\n",
        "result=a+b+c\n",
        "print(result)  "
      ]
    }
  ],
  "metadata": {
    "colab": {
      "provenance": []
    },
    "kernelspec": {
      "display_name": "Python 3.10.7 64-bit",
      "language": "python",
      "name": "python3"
    },
    "language_info": {
      "codemirror_mode": {
        "name": "ipython",
        "version": 3
      },
      "file_extension": ".py",
      "mimetype": "text/x-python",
      "name": "python",
      "nbconvert_exporter": "python",
      "pygments_lexer": "ipython3",
      "version": "3.10.7"
    },
    "vscode": {
      "interpreter": {
        "hash": "0d2d775919a50d47f9745da8497df68327b8647fa7069e254b02ee1a221bac94"
      }
    }
  },
  "nbformat": 4,
  "nbformat_minor": 0
}
