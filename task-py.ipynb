{
  "nbformat": 4,
  "nbformat_minor": 0,
  "metadata": {
    "colab": {
      "provenance": []
    },
    "kernelspec": {
      "name": "python3",
      "display_name": "Python 3"
    },
    "language_info": {
      "name": "python"
    }
  },
  "cells": [
    {
      "cell_type": "markdown",
      "source": [
        "1)Find the minimum and maximum element in an array."
      ],
      "metadata": {
        "id": "9K409ravBHfC"
      }
    },
    {
      "cell_type": "code",
      "source": [
        "arr=[1,3,4,5,10,11]\n",
        "print(\"maximum:\",max(arr))\n",
        "print(\"minimum:\",min(arr))\n"
      ],
      "metadata": {
        "colab": {
          "base_uri": "https://localhost:8080/"
        },
        "id": "0IZNyNApBKet",
        "outputId": "e50ec99d-00b0-4649-9294-552cb70bf645"
      },
      "execution_count": null,
      "outputs": [
        {
          "output_type": "stream",
          "name": "stdout",
          "text": [
            "maximum: 11\n",
            "minimum: 1\n"
          ]
        }
      ]
    },
    {
      "cell_type": "markdown",
      "source": [
        "2)arr[] = {1,5,3,2}\n",
        "Given a random set of numbers, print them in sorted order"
      ],
      "metadata": {
        "id": "OrZ7HPLNBm3S"
      }
    },
    {
      "cell_type": "code",
      "source": [
        "arr= {1,5,3,2}\n",
        "print(sorted(arr))"
      ],
      "metadata": {
        "colab": {
          "base_uri": "https://localhost:8080/"
        },
        "id": "YW5MIP5TBs-j",
        "outputId": "be324418-5632-40d8-fbea-fb1891313aa4"
      },
      "execution_count": null,
      "outputs": [
        {
          "output_type": "stream",
          "name": "stdout",
          "text": [
            "[1, 2, 3, 5]\n"
          ]
        }
      ]
    },
    {
      "cell_type": "markdown",
      "source": [
        "3)write a program to reverse the array"
      ],
      "metadata": {
        "id": "WGpmCgP-CkQK"
      }
    },
    {
      "cell_type": "code",
      "source": [
        "arr=[\"apple\",\"banana\",\"cherry\"]\n",
        "arr.reverse()\n",
        "print(\"reversed array:\",arr)"
      ],
      "metadata": {
        "colab": {
          "base_uri": "https://localhost:8080/"
        },
        "id": "MwyVcUOgCqL_",
        "outputId": "f80fe65c-c9bb-4658-f5bd-7a84392c19f8"
      },
      "execution_count": null,
      "outputs": [
        {
          "output_type": "stream",
          "name": "stdout",
          "text": [
            "reversed array: ['cherry', 'banana', 'apple']\n"
          ]
        }
      ]
    },
    {
      "cell_type": "markdown",
      "source": [
        "4)Find the smallest and largest element In an array"
      ],
      "metadata": {
        "id": "pl3oTMODDZqJ"
      }
    },
    {
      "cell_type": "code",
      "source": [
        "arr=[1,10,4,5,2,7,3,23,6]\n",
        "small=min(arr)\n",
        "large=max(arr)\n",
        "print(\"small:\",small)\n",
        "print(\"large:\",large)\n"
      ],
      "metadata": {
        "colab": {
          "base_uri": "https://localhost:8080/"
        },
        "id": "aiEgmsHGDdW-",
        "outputId": "23e8cfd9-cded-454c-ea37-ed3f9a495453"
      },
      "execution_count": null,
      "outputs": [
        {
          "output_type": "stream",
          "name": "stdout",
          "text": [
            "small: 1\n",
            "large: 23\n"
          ]
        }
      ]
    },
    {
      "cell_type": "markdown",
      "source": [
        "5)create three arrays and find the common element in these array"
      ],
      "metadata": {
        "id": "FIvOY0ICE8t_"
      }
    },
    {
      "cell_type": "markdown",
      "source": [],
      "metadata": {
        "id": "eFKPgW_3QbE8"
      }
    },
    {
      "cell_type": "code",
      "source": [
        "arr1=[1,2,5,6,7,9]\n",
        "arr2=[3,6,2,8,4,5]\n",
        "arr3=[6,5,9,2,3,1]\n",
        "a=(set(arr1).intersection(arr2).intersection(arr3))\n",
        "print(\"common elements:\",list(a))\n"
      ],
      "metadata": {
        "colab": {
          "base_uri": "https://localhost:8080/"
        },
        "id": "9SeFQZtpFK9W",
        "outputId": "778150ce-8ef9-4438-b897-c0fdbf793ddb"
      },
      "execution_count": null,
      "outputs": [
        {
          "output_type": "stream",
          "name": "stdout",
          "text": [
            "common elements: [2, 5, 6]\n"
          ]
        }
      ]
    },
    {
      "cell_type": "markdown",
      "source": [
        "6)Find the factorial of a number using array"
      ],
      "metadata": {
        "id": "KWvvCqXIIfI2"
      }
    },
    {
      "cell_type": "code",
      "source": [
        "def factorial(n):\n",
        "\n",
        "    fact = 1\n",
        "\n",
        "    for factor in range(1, n + 1):\n",
        "        fact *= factor\n",
        "\n",
        "    return fact\n",
        "arr= [1, 2, 3, 4, 5]\n",
        "factorial = [factorial(x) for x in arr]\n",
        "print(\"factorial:\",factorial)\n",
        " \n",
        "  \n"
      ],
      "metadata": {
        "colab": {
          "base_uri": "https://localhost:8080/"
        },
        "id": "LyfTXbtoODzM",
        "outputId": "b662693c-d503-4dfc-bf0f-3d521330761c"
      },
      "execution_count": null,
      "outputs": [
        {
          "output_type": "stream",
          "name": "stdout",
          "text": [
            "factorial: [1, 2, 6, 24, 120]\n"
          ]
        }
      ]
    }
  ]
}